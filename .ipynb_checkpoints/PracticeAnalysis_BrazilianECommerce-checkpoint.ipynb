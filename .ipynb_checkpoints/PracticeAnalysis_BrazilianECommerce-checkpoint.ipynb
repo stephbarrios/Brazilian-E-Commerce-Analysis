{
 "cells": [
  {
   "cell_type": "code",
   "execution_count": 234,
   "metadata": {
    "collapsed": true
   },
   "outputs": [],
   "source": [
    "import pandas as pd\n",
    "import numpy as np\n",
    "import matplotlib.pyplot as plt\n",
    "%matplotlib inline"
   ]
  },
  {
   "cell_type": "code",
   "execution_count": 235,
   "metadata": {
    "collapsed": false
   },
   "outputs": [
    {
     "data": {
      "text/plain": [
       "96096"
      ]
     },
     "execution_count": 235,
     "metadata": {},
     "output_type": "execute_result"
    }
   ],
   "source": [
    "customer_df = pd.read_csv('olist_customers_dataset.csv')\n",
    "customer_df.shape\n",
    "customer_df['customer_unique_id'].nunique()\n",
    "\n",
    "#view of original cust_df"
   ]
  },
  {
   "cell_type": "code",
   "execution_count": 236,
   "metadata": {
    "collapsed": false
   },
   "outputs": [
    {
     "data": {
      "text/plain": [
       "(99441, 8)"
      ]
     },
     "execution_count": 236,
     "metadata": {},
     "output_type": "execute_result"
    }
   ],
   "source": [
    "orders_df = pd.read_csv('olist_orders_dataset.csv')\n",
    "orders_df.head(50)\n",
    "orders_df.shape\n",
    "\n",
    "#view of original orders_df"
   ]
  },
  {
   "cell_type": "code",
   "execution_count": 237,
   "metadata": {
    "collapsed": false
   },
   "outputs": [
    {
     "data": {
      "text/plain": [
       "98666"
      ]
     },
     "execution_count": 237,
     "metadata": {},
     "output_type": "execute_result"
    }
   ],
   "source": [
    "orderitems_df = pd.read_csv('olist_order_items_dataset.csv')\n",
    "orderitems_df.shape\n",
    "orderitems_df['order_id'].nunique()\n",
    "\n",
    "#view of original order_items_df - 112650 is fine"
   ]
  },
  {
   "cell_type": "code",
   "execution_count": 238,
   "metadata": {
    "collapsed": false
   },
   "outputs": [
    {
     "data": {
      "text/plain": [
       "32951"
      ]
     },
     "execution_count": 238,
     "metadata": {},
     "output_type": "execute_result"
    }
   ],
   "source": [
    "products_df = pd.read_csv('olist_products_dataset.csv')\n",
    "products_df.head(5)\n",
    "products_df['product_id'].nunique()\n",
    "\n",
    "#og products df"
   ]
  },
  {
   "cell_type": "code",
   "execution_count": 239,
   "metadata": {
    "collapsed": false
   },
   "outputs": [
    {
     "data": {
      "text/plain": [
       "(71, 2)"
      ]
     },
     "execution_count": 239,
     "metadata": {},
     "output_type": "execute_result"
    }
   ],
   "source": [
    "product_transl_df = pd.read_csv('product_category_name_translation.csv')\n",
    "product_transl_df.head(5)\n",
    "product_transl_df.shape\n"
   ]
  },
  {
   "cell_type": "code",
   "execution_count": 240,
   "metadata": {
    "collapsed": false
   },
   "outputs": [
    {
     "data": {
      "text/plain": [
       "96096"
      ]
     },
     "execution_count": 240,
     "metadata": {},
     "output_type": "execute_result"
    }
   ],
   "source": [
    "cust_orders_df = pd.merge(customer_df, orders_df, on = 'customer_id')\n",
    "cust_orders_df.shape\n",
    "\n",
    "cust_orders_df['customer_unique_id'].nunique()\n",
    "\n",
    "#view of original custumer orders df"
   ]
  },
  {
   "cell_type": "code",
   "execution_count": 241,
   "metadata": {
    "collapsed": false
   },
   "outputs": [
    {
     "data": {
      "text/plain": [
       "(112650, 13)"
      ]
     },
     "execution_count": 241,
     "metadata": {},
     "output_type": "execute_result"
    }
   ],
   "source": [
    "orders_and_items = pd.merge(orders_df, orderitems_df, on='order_id')\n",
    "orders_and_items.head(5)\n",
    "orders_and_items.shape\n",
    "\n",
    "#view of orders + items in that order"
   ]
  },
  {
   "cell_type": "code",
   "execution_count": 242,
   "metadata": {
    "collapsed": false
   },
   "outputs": [
    {
     "data": {
      "text/plain": [
       "(112650, 21)"
      ]
     },
     "execution_count": 242,
     "metadata": {},
     "output_type": "execute_result"
    }
   ],
   "source": [
    "prod_order_items = pd.merge(orders_and_items, products_df, on = 'product_id', how='right')\n",
    "prod_order_items.head(5)\n",
    "\n",
    "prod_order_items.shape\n",
    "\n",
    "# view of orders + items in that order + what each item is"
   ]
  },
  {
   "cell_type": "code",
   "execution_count": 243,
   "metadata": {
    "collapsed": false
   },
   "outputs": [
    {
     "data": {
      "text/plain": [
       "(112650, 21)"
      ]
     },
     "execution_count": 243,
     "metadata": {},
     "output_type": "execute_result"
    }
   ],
   "source": [
    "prod_order_items = pd.merge(prod_order_items, product_transl_df, on='product_category_name', how='left')\n",
    "prod_order_items.drop(['product_category_name'], axis=1, inplace=True)\n",
    "prod_order_items.head(50)\n",
    "\n",
    "prod_order_items.shape\n",
    "# same as above except adding product translation + dropping portuguese description"
   ]
  },
  {
   "cell_type": "code",
   "execution_count": 244,
   "metadata": {
    "collapsed": false
   },
   "outputs": [
    {
     "data": {
      "text/plain": [
       "96096"
      ]
     },
     "execution_count": 244,
     "metadata": {},
     "output_type": "execute_result"
    }
   ],
   "source": [
    "final_df = pd.merge(prod_order_items, customer_df, on = 'customer_id', how='right')\n",
    "final_df.head(50)\n",
    "\n",
    "\n",
    "final_df['customer_unique_id'].nunique()\n",
    "#adding customer_unique_id"
   ]
  },
  {
   "cell_type": "code",
   "execution_count": 245,
   "metadata": {
    "collapsed": false
   },
   "outputs": [
    {
     "data": {
      "text/plain": [
       "['order_id',\n",
       " 'customer_id',\n",
       " 'order_status',\n",
       " 'order_purchase_timestamp',\n",
       " 'order_approved_at',\n",
       " 'order_delivered_carrier_date',\n",
       " 'order_delivered_customer_date',\n",
       " 'order_estimated_delivery_date',\n",
       " 'order_item_id',\n",
       " 'product_id',\n",
       " 'seller_id',\n",
       " 'price',\n",
       " 'freight_value',\n",
       " 'product_name_lenght',\n",
       " 'product_description_lenght',\n",
       " 'product_photos_qty',\n",
       " 'product_weight_g',\n",
       " 'product_length_cm',\n",
       " 'product_height_cm',\n",
       " 'product_width_cm',\n",
       " 'product_category_name_english',\n",
       " 'customer_unique_id',\n",
       " 'customer_zip_code_prefix',\n",
       " 'customer_city',\n",
       " 'customer_state']"
      ]
     },
     "execution_count": 245,
     "metadata": {},
     "output_type": "execute_result"
    }
   ],
   "source": [
    "cols = final_df.columns.tolist()\n",
    "cols"
   ]
  },
  {
   "cell_type": "code",
   "execution_count": 246,
   "metadata": {
    "collapsed": true
   },
   "outputs": [],
   "source": [
    "cols = ['order_id',\n",
    " 'customer_id',\n",
    " 'customer_unique_id',\n",
    " 'customer_zip_code_prefix',\n",
    " 'customer_city',\n",
    " 'customer_state',\n",
    " 'order_status',\n",
    " 'order_purchase_timestamp',\n",
    " 'order_approved_at',\n",
    " 'order_delivered_carrier_date',\n",
    " 'order_delivered_customer_date',\n",
    " 'order_estimated_delivery_date',\n",
    " 'order_item_id',\n",
    " 'product_id',\n",
    " 'product_category_name_english',\n",
    " 'seller_id',\n",
    " 'price',\n",
    " 'freight_value',\n",
    " 'product_name_lenght',\n",
    " 'product_description_lenght',\n",
    " 'product_photos_qty',\n",
    " 'product_weight_g',\n",
    " 'product_length_cm',\n",
    " 'product_height_cm',\n",
    " 'product_width_cm']"
   ]
  },
  {
   "cell_type": "code",
   "execution_count": 247,
   "metadata": {
    "collapsed": false
   },
   "outputs": [],
   "source": [
    "final_df = final_df[cols]"
   ]
  },
  {
   "cell_type": "code",
   "execution_count": 248,
   "metadata": {
    "collapsed": false
   },
   "outputs": [
    {
     "data": {
      "text/plain": [
       "96096"
      ]
     },
     "execution_count": 248,
     "metadata": {},
     "output_type": "execute_result"
    }
   ],
   "source": [
    "final_df.head(5)\n",
    "final_df.shape\n",
    "final_df['customer_unique_id'].nunique()\n"
   ]
  },
  {
   "cell_type": "code",
   "execution_count": 249,
   "metadata": {
    "collapsed": false
   },
   "outputs": [
    {
     "data": {
      "text/plain": [
       "(96096, 1)"
      ]
     },
     "execution_count": 249,
     "metadata": {},
     "output_type": "execute_result"
    }
   ],
   "source": [
    "test = pd.DataFrame(final_df.groupby(['customer_unique_id'])['order_id'].count())\n",
    "test.shape\n",
    "\n",
    "# final_df['customer_unique_id'].nunique() -- num of unique doesnt match Kaggle but i think Kaggle wrong"
   ]
  },
  {
   "cell_type": "code",
   "execution_count": 250,
   "metadata": {
    "collapsed": false
   },
   "outputs": [],
   "source": [
    "test.columns = ['num_orders']"
   ]
  },
  {
   "cell_type": "code",
   "execution_count": 251,
   "metadata": {
    "collapsed": false
   },
   "outputs": [],
   "source": [
    "more_than_one = test.query('num_orders > 1').shape"
   ]
  },
  {
   "cell_type": "code",
   "execution_count": 252,
   "metadata": {
    "collapsed": false
   },
   "outputs": [
    {
     "data": {
      "text/plain": [
       "'Out of 96096 customers in this dataset, 11869 customers had more than 1 order - which is 12.35% of all customers.'"
      ]
     },
     "execution_count": 252,
     "metadata": {},
     "output_type": "execute_result"
    }
   ],
   "source": [
    "'Out of {} customers in this dataset, {} customers had more than 1 order - which is {}% of all customers.'.format(test.shape[0], more_than_one[0], round((more_than_one[0]/test.shape[0])*100,2))"
   ]
  },
  {
   "cell_type": "code",
   "execution_count": 253,
   "metadata": {
    "collapsed": false
   },
   "outputs": [
    {
     "data": {
      "text/plain": [
       "order_id                          object\n",
       "customer_id                       object\n",
       "customer_unique_id                object\n",
       "customer_zip_code_prefix           int64\n",
       "customer_city                     object\n",
       "customer_state                    object\n",
       "order_status                      object\n",
       "order_purchase_timestamp          object\n",
       "order_approved_at                 object\n",
       "order_delivered_carrier_date      object\n",
       "order_delivered_customer_date     object\n",
       "order_estimated_delivery_date     object\n",
       "order_item_id                    float64\n",
       "product_id                        object\n",
       "product_category_name_english     object\n",
       "seller_id                         object\n",
       "price                            float64\n",
       "freight_value                    float64\n",
       "product_name_lenght              float64\n",
       "product_description_lenght       float64\n",
       "product_photos_qty               float64\n",
       "product_weight_g                 float64\n",
       "product_length_cm                float64\n",
       "product_height_cm                float64\n",
       "product_width_cm                 float64\n",
       "dtype: object"
      ]
     },
     "execution_count": 253,
     "metadata": {},
     "output_type": "execute_result"
    }
   ],
   "source": [
    "final_df.dtypes"
   ]
  },
  {
   "cell_type": "code",
   "execution_count": 254,
   "metadata": {
    "collapsed": true
   },
   "outputs": [],
   "source": [
    "final_df['order_purchase_timestamp'] = pd.to_datetime(final_df['order_purchase_timestamp'])"
   ]
  },
  {
   "cell_type": "code",
   "execution_count": 255,
   "metadata": {
    "collapsed": false
   },
   "outputs": [
    {
     "name": "stdout",
     "output_type": "stream",
     "text": [
      "Data is from 2016-09-04 21:15:19 to 2018-09-03 09:06:57.\n"
     ]
    }
   ],
   "source": [
    "print('Data is from {} to {}.'.format(str(final_df['order_purchase_timestamp'].min()), str(final_df['order_purchase_timestamp'].max())))\n"
   ]
  },
  {
   "cell_type": "code",
   "execution_count": 281,
   "metadata": {
    "collapsed": false
   },
   "outputs": [
    {
     "data": {
      "text/plain": [
       "(98666, 1)"
      ]
     },
     "execution_count": 281,
     "metadata": {},
     "output_type": "execute_result"
    }
   ],
   "source": [
    "#Average num of items in each order\n",
    "\n",
    "tt = pd.DataFrame(final_df.groupby(['order_id'])['order_id'].count())\n",
    "tt['order_id'].mean()\n",
    "\n",
    "\n",
    "#amongst all customers, people tend to order around 1 item per order"
   ]
  },
  {
   "cell_type": "code",
   "execution_count": 280,
   "metadata": {
    "collapsed": false
   },
   "outputs": [
    {
     "data": {
      "text/plain": [
       "num_orders    2.451681\n",
       "dtype: float64"
      ]
     },
     "execution_count": 280,
     "metadata": {},
     "output_type": "execute_result"
    }
   ],
   "source": [
    "test.query('num_orders > 1').mean()\n",
    "\n",
    "#amongst those customers that order more than 1 item, they usually only do around 2-3"
   ]
  },
  {
   "cell_type": "code",
   "execution_count": null,
   "metadata": {
    "collapsed": true
   },
   "outputs": [],
   "source": []
  }
 ],
 "metadata": {
  "kernelspec": {
   "display_name": "Python 3",
   "language": "python",
   "name": "python3"
  },
  "language_info": {
   "codemirror_mode": {
    "name": "ipython",
    "version": 3
   },
   "file_extension": ".py",
   "mimetype": "text/x-python",
   "name": "python",
   "nbconvert_exporter": "python",
   "pygments_lexer": "ipython3",
   "version": "3.6.0"
  }
 },
 "nbformat": 4,
 "nbformat_minor": 2
}
